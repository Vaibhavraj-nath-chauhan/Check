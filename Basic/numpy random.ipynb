{
 "cells": [
  {
   "cell_type": "markdown",
   "metadata": {},
   "source": [
    "#### Write a Pandas program to compute the minimum, 25th percentile, median, 75th, and maximum of a given series.\n",
    "Sample Output:<br>\n",
    "Original Series:<br>\n",
    "create with random state<br><br>\n",
    "Minimum, 25th percentile, median, 75th, and maximum of a given series:<br>\n",
    "[ 3.00093811 8.09463867 10.23353705 12.21537733 14.61214321]"
   ]
  },
  {
   "cell_type": "code",
   "execution_count": 1,
   "metadata": {},
   "outputs": [],
   "source": [
    "import pandas as pd\n",
    "import numpy as np"
   ]
  },
  {
   "cell_type": "code",
   "execution_count": 2,
   "metadata": {},
   "outputs": [],
   "source": [
    "random_state = np.random.RandomState(100)"
   ]
  },
  {
   "cell_type": "code",
   "execution_count": 3,
   "metadata": {},
   "outputs": [],
   "source": [
    "se1 = pd.Series(random_state.normal(10,4,20))"
   ]
  },
  {
   "cell_type": "code",
   "execution_count": 4,
   "metadata": {},
   "outputs": [
    {
     "data": {
      "text/plain": [
       "0      3.000938\n",
       "1     11.370722\n",
       "2     14.612143\n",
       "3      8.990256\n",
       "4     13.925283\n",
       "5     12.056875\n",
       "6     10.884719\n",
       "7      5.719827\n",
       "8      9.242017\n",
       "9     11.020006\n",
       "10     8.167892\n",
       "11    11.740654\n",
       "12     7.665620\n",
       "13    13.267388\n",
       "14    12.690883\n",
       "15     9.582355\n",
       "16     7.874878\n",
       "17    14.118931\n",
       "18     8.247458\n",
       "19     5.526727\n",
       "dtype: float64"
      ]
     },
     "execution_count": 4,
     "metadata": {},
     "output_type": "execute_result"
    }
   ],
   "source": [
    "se1"
   ]
  },
  {
   "cell_type": "code",
   "execution_count": 5,
   "metadata": {},
   "outputs": [
    {
     "data": {
      "text/plain": [
       "array([ 3.00093811,  8.09463867, 10.23353705, 12.21537733, 14.61214321])"
      ]
     },
     "execution_count": 5,
     "metadata": {},
     "output_type": "execute_result"
    }
   ],
   "source": [
    "np.percentile(se1,q = [0,25,50,75,100])"
   ]
  }
 ],
 "metadata": {
  "kernelspec": {
   "display_name": "Python 3",
   "language": "python",
   "name": "python3"
  },
  "language_info": {
   "codemirror_mode": {
    "name": "ipython",
    "version": 3
   },
   "file_extension": ".py",
   "mimetype": "text/x-python",
   "name": "python",
   "nbconvert_exporter": "python",
   "pygments_lexer": "ipython3",
   "version": "3.7.6"
  }
 },
 "nbformat": 4,
 "nbformat_minor": 4
}
