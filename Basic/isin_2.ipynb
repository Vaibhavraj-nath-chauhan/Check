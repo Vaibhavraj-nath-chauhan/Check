{
 "cells": [
  {
   "cell_type": "markdown",
   "metadata": {},
   "source": [
    "### Write a Pandas program to get the items which are not common of two given series.\n",
    "Sample Output:<br>\n",
    "Original Series:<br>\n",
    "sr1:<br>\n",
    "0 1<br>\n",
    "1 2<br>\n",
    "2 3<br>\n",
    "3 4<br>\n",
    "4 5<br>\n",
    "dtype: int64<br><br>\n",
    "sr2:<br>\n",
    "0 2<br>\n",
    "1 4<br>\n",
    "2 6<br>\n",
    "3 8<br>\n",
    "4 10<br>\n",
    "dtype: int64<br><br>\n",
    "Items of a given series not present in another given series:<br>\n",
    "0 1<br>\n",
    "2 3<br>\n",
    "4 5<br>\n",
    "5 6<br>\n",
    "6 8<br>\n",
    "7 10<br>\n",
    "dtype: int64"
   ]
  },
  {
   "cell_type": "code",
   "execution_count": 1,
   "metadata": {},
   "outputs": [],
   "source": [
    "import pandas as pd     #imprting files\n",
    "import numpy as np"
   ]
  },
  {
   "cell_type": "code",
   "execution_count": 2,
   "metadata": {},
   "outputs": [
    {
     "data": {
      "text/plain": [
       "0    1\n",
       "1    2\n",
       "2    3\n",
       "3    4\n",
       "4    5\n",
       "dtype: int64"
      ]
     },
     "execution_count": 2,
     "metadata": {},
     "output_type": "execute_result"
    }
   ],
   "source": [
    "se1 = pd.Series([1,2,3,4,5])     #creating series of given data\n",
    "se1"
   ]
  },
  {
   "cell_type": "code",
   "execution_count": 3,
   "metadata": {},
   "outputs": [
    {
     "data": {
      "text/plain": [
       "0     2\n",
       "1     6\n",
       "2     8\n",
       "3    10\n",
       "dtype: int64"
      ]
     },
     "execution_count": 3,
     "metadata": {},
     "output_type": "execute_result"
    }
   ],
   "source": [
    "se2 = pd.Series([2,6,8,10])   #series of given data\n",
    "se2"
   ]
  },
  {
   "cell_type": "code",
   "execution_count": 4,
   "metadata": {},
   "outputs": [],
   "source": [
    "se11 = se1.append(se2,ignore_index=True)   #joing both the series in contiune form"
   ]
  },
  {
   "cell_type": "code",
   "execution_count": 5,
   "metadata": {},
   "outputs": [],
   "source": [
    "sr22 = pd.Series(np.intersect1d(se1, se2))  #fetching common values rowns and creating series for that"
   ]
  },
  {
   "cell_type": "code",
   "execution_count": 6,
   "metadata": {},
   "outputs": [
    {
     "data": {
      "text/plain": [
       "0     1\n",
       "2     3\n",
       "3     4\n",
       "4     5\n",
       "6     6\n",
       "7     8\n",
       "8    10\n",
       "dtype: int64"
      ]
     },
     "execution_count": 6,
     "metadata": {},
     "output_type": "execute_result"
    }
   ],
   "source": [
    "se11[se11.isin(sr22) == False]              #checking if data is not present in our required question than print that row"
   ]
  }
 ],
 "metadata": {
  "kernelspec": {
   "display_name": "Python 3",
   "language": "python",
   "name": "python3"
  },
  "language_info": {
   "codemirror_mode": {
    "name": "ipython",
    "version": 3
   },
   "file_extension": ".py",
   "mimetype": "text/x-python",
   "name": "python",
   "nbconvert_exporter": "python",
   "pygments_lexer": "ipython3",
   "version": "3.7.6"
  }
 },
 "nbformat": 4,
 "nbformat_minor": 4
}
