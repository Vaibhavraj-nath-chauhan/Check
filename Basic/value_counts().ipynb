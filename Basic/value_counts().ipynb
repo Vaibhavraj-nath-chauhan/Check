{
 "cells": [
  {
   "cell_type": "markdown",
   "metadata": {},
   "source": [
    "### Write a Pandas program to calculate the frequency counts of each unique value of a given series.\n",
    "Sample Output:<br>\n",
    "Original Series:<br>\n",
    "    Create by random number<br><br>\n",
    "Frequency of each unique value of the said series:<br>\n",
    "    output will be based on random number\n"
   ]
  },
  {
   "cell_type": "code",
   "execution_count": 1,
   "metadata": {},
   "outputs": [],
   "source": [
    "import numpy as np\n",
    "import pandas as pd"
   ]
  },
  {
   "cell_type": "code",
   "execution_count": 2,
   "metadata": {},
   "outputs": [
    {
     "data": {
      "text/plain": [
       "0     5\n",
       "1     0\n",
       "2     8\n",
       "3     7\n",
       "4     7\n",
       "5     3\n",
       "6     1\n",
       "7     9\n",
       "8     6\n",
       "9     0\n",
       "10    7\n",
       "11    6\n",
       "12    6\n",
       "13    0\n",
       "14    3\n",
       "15    8\n",
       "16    4\n",
       "17    4\n",
       "18    5\n",
       "19    0\n",
       "20    7\n",
       "21    8\n",
       "22    1\n",
       "23    7\n",
       "24    7\n",
       "25    3\n",
       "26    1\n",
       "27    0\n",
       "28    9\n",
       "29    6\n",
       "30    2\n",
       "31    2\n",
       "32    4\n",
       "33    9\n",
       "34    0\n",
       "35    0\n",
       "36    2\n",
       "37    1\n",
       "38    8\n",
       "39    1\n",
       "dtype: int32"
      ]
     },
     "execution_count": 2,
     "metadata": {},
     "output_type": "execute_result"
    }
   ],
   "source": [
    "se = pd.Series(np.random.randint(10, size=40))\n",
    "se"
   ]
  },
  {
   "cell_type": "code",
   "execution_count": 3,
   "metadata": {},
   "outputs": [
    {
     "data": {
      "text/plain": [
       "0    7\n",
       "7    6\n",
       "1    5\n",
       "8    4\n",
       "6    4\n",
       "9    3\n",
       "4    3\n",
       "3    3\n",
       "2    3\n",
       "5    2\n",
       "dtype: int64"
      ]
     },
     "execution_count": 3,
     "metadata": {},
     "output_type": "execute_result"
    }
   ],
   "source": [
    "se.value_counts()"
   ]
  }
 ],
 "metadata": {
  "kernelspec": {
   "display_name": "Python 3",
   "language": "python",
   "name": "python3"
  },
  "language_info": {
   "codemirror_mode": {
    "name": "ipython",
    "version": 3
   },
   "file_extension": ".py",
   "mimetype": "text/x-python",
   "name": "python",
   "nbconvert_exporter": "python",
   "pygments_lexer": "ipython3",
   "version": "3.7.6"
  }
 },
 "nbformat": 4,
 "nbformat_minor": 4
}
