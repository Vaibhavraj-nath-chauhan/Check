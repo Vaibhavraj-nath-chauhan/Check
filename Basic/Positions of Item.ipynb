{
 "cells": [
  {
   "cell_type": "markdown",
   "metadata": {},
   "source": [
    "### Write a Pandas program to get the positions of items of a given series in another given series\n",
    "element_pos = [0, 2, 6, 11, 21]"
   ]
  },
  {
   "cell_type": "code",
   "execution_count": 1,
   "metadata": {},
   "outputs": [],
   "source": [
    "import numpy as np\n",
    "import pandas as pd\n",
    "import random"
   ]
  },
  {
   "cell_type": "code",
   "execution_count": 2,
   "metadata": {},
   "outputs": [],
   "source": [
    "#creating random data\n",
    "data = [random.randint(1,20) for i in range(25) ]"
   ]
  },
  {
   "cell_type": "code",
   "execution_count": 3,
   "metadata": {},
   "outputs": [
    {
     "name": "stdout",
     "output_type": "stream",
     "text": [
      "15 12 4 3 6 7 9 9 4 10 20 19 9 9 18 12 13 6 2 7 1 13 8 2 7\n"
     ]
    }
   ],
   "source": [
    "#printing data\n",
    "print(*data)"
   ]
  },
  {
   "cell_type": "code",
   "execution_count": 4,
   "metadata": {},
   "outputs": [
    {
     "data": {
      "text/plain": [
       "0     15\n",
       "1     12\n",
       "2      4\n",
       "3      3\n",
       "4      6\n",
       "5      7\n",
       "6      9\n",
       "7      9\n",
       "8      4\n",
       "9     10\n",
       "10    20\n",
       "11    19\n",
       "12     9\n",
       "13     9\n",
       "14    18\n",
       "15    12\n",
       "16    13\n",
       "17     6\n",
       "18     2\n",
       "19     7\n",
       "20     1\n",
       "21    13\n",
       "22     8\n",
       "23     2\n",
       "24     7\n",
       "dtype: int64"
      ]
     },
     "execution_count": 4,
     "metadata": {},
     "output_type": "execute_result"
    }
   ],
   "source": [
    "#creating series\n",
    "se = pd.Series(data)\n",
    "se"
   ]
  },
  {
   "cell_type": "code",
   "execution_count": 5,
   "metadata": {},
   "outputs": [],
   "source": [
    "# elements to find\n",
    "element_pos = [0, 2, 6, 11, 21]"
   ]
  },
  {
   "cell_type": "code",
   "execution_count": 6,
   "metadata": {},
   "outputs": [
    {
     "data": {
      "text/plain": [
       "0     15\n",
       "2      4\n",
       "6      9\n",
       "11    19\n",
       "21    13\n",
       "dtype: int64"
      ]
     },
     "execution_count": 6,
     "metadata": {},
     "output_type": "execute_result"
    }
   ],
   "source": [
    "# Processing\n",
    "se[element_pos]"
   ]
  },
  {
   "cell_type": "code",
   "execution_count": 7,
   "metadata": {},
   "outputs": [
    {
     "data": {
      "text/plain": [
       "0     15\n",
       "2      4\n",
       "6      9\n",
       "11    19\n",
       "21    13\n",
       "dtype: int64"
      ]
     },
     "execution_count": 7,
     "metadata": {},
     "output_type": "execute_result"
    }
   ],
   "source": [
    "# method 2\n",
    "se.take(element_pos)"
   ]
  }
 ],
 "metadata": {
  "kernelspec": {
   "display_name": "Python 3",
   "language": "python",
   "name": "python3"
  },
  "language_info": {
   "codemirror_mode": {
    "name": "ipython",
    "version": 3
   },
   "file_extension": ".py",
   "mimetype": "text/x-python",
   "name": "python",
   "nbconvert_exporter": "python",
   "pygments_lexer": "ipython3",
   "version": "3.7.6"
  }
 },
 "nbformat": 4,
 "nbformat_minor": 4
}
